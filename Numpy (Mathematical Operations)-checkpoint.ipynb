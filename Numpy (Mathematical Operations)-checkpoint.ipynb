{
 "cells": [
  {
   "cell_type": "code",
   "execution_count": 1,
   "id": "f9c60c99",
   "metadata": {},
   "outputs": [],
   "source": [
    "#task1"
   ]
  },
  {
   "cell_type": "code",
   "execution_count": 5,
   "id": "cafbb734",
   "metadata": {},
   "outputs": [
    {
     "name": "stdout",
     "output_type": "stream",
     "text": [
      "[[[2. 2.]\n",
      "  [2. 2.]]\n",
      "\n",
      " [[2. 2.]\n",
      "  [2. 2.]]\n",
      "\n",
      " [[2. 2.]\n",
      "  [2. 2.]]]\n",
      "[[[0. 0.]\n",
      "  [0. 0.]]\n",
      "\n",
      " [[0. 0.]\n",
      "  [0. 0.]]\n",
      "\n",
      " [[0. 0.]\n",
      "  [0. 0.]]]\n",
      "[[[1. 1.]\n",
      "  [1. 1.]]\n",
      "\n",
      " [[1. 1.]\n",
      "  [1. 1.]]\n",
      "\n",
      " [[1. 1.]\n",
      "  [1. 1.]]]\n",
      "[[[1. 1.]\n",
      "  [1. 1.]]\n",
      "\n",
      " [[1. 1.]\n",
      "  [1. 1.]]\n",
      "\n",
      " [[1. 1.]\n",
      "  [1. 1.]]]\n"
     ]
    }
   ],
   "source": [
    "import numpy as np\n",
    "a=np.ones((3,2,2))\n",
    "b=np.ones((3,2,2))\n",
    "print(np.add(a,b))\n",
    "print(np.subtract(a,b))\n",
    "print(np.multiply(a,b))\n",
    "print(np.divide(a,b))\n"
   ]
  },
  {
   "cell_type": "markdown",
   "id": "c93a1df8",
   "metadata": {},
   "source": [
    "#task2"
   ]
  },
  {
   "cell_type": "code",
   "execution_count": 12,
   "id": "70492f80",
   "metadata": {},
   "outputs": [
    {
     "name": "stdout",
     "output_type": "stream",
     "text": [
      "[[[1. 1.]\n",
      "  [1. 1.]]\n",
      "\n",
      " [[1. 1.]\n",
      "  [1. 1.]]\n",
      "\n",
      " [[1. 1.]\n",
      "  [1. 1.]]]\n"
     ]
    }
   ],
   "source": [
    "\n",
    "#1\n",
    "c=np.arange(1,4,.5)\n",
    "print(c)\n",
    "c=c.reshape(2,3)\n",
    "#print(c)\n",
    "#2\n",
    "d=np.ones((4,3,2))\n",
    "print(d)\n",
    "#3\n",
    "e=np.zeros((3,3,3))\n",
    "print(e)\n",
    "#4\n",
    "f=np.empty((3,2,2))\n",
    "print(f)"
   ]
  },
  {
   "cell_type": "markdown",
   "id": "54844a2d",
   "metadata": {},
   "source": [
    "#task3\n"
   ]
  },
  {
   "cell_type": "code",
   "execution_count": 15,
   "id": "09b9cda6",
   "metadata": {},
   "outputs": [
    {
     "name": "stdout",
     "output_type": "stream",
     "text": [
      "[[[1 2 3]\n",
      "  [4 5 6]]\n",
      "\n",
      " [[1 2 3]\n",
      "  [4 5 6]]]\n",
      "6\n",
      "[4 5]\n"
     ]
    }
   ],
   "source": [
    "arr=np.array([[[1,2,3],[4,5,6]],[[1,2,3],[4,5,6]]])\n",
    "print(arr)\n",
    "#indexing\n",
    "#to extract 6 list1\n",
    "print(arr[0][1][2])\n",
    "#slicing\n",
    "#to extract 4and5 from list2\n",
    "print(arr[1][1][:2])"
   ]
  },
  {
   "cell_type": "markdown",
   "id": "4a6edaf4",
   "metadata": {},
   "source": [
    "#tak4"
   ]
  },
  {
   "cell_type": "code",
   "execution_count": 36,
   "id": "d90f328c",
   "metadata": {},
   "outputs": [
    {
     "name": "stdout",
     "output_type": "stream",
     "text": [
      "[1.  2.  3.3]\n",
      "[1.  2.  3.3]\n",
      "[4. 5. 6.]\n",
      "[ 4 16 25]\n",
      "[7.3890561  2.71828183 1.        ]\n",
      "[0.         2.30258509 2.99573227]\n",
      "[0.      1.      1.30103]\n",
      "[1.         4.32192809 5.32192809]\n",
      "[0.69314718 2.39789527 3.04452244]\n",
      "[-1  1  1]\n",
      "[5. 7. 2.]\n",
      "[1. 5. 3.]\n",
      "[2. 3. 4.]\n",
      "(array([0.2 , 0.6 , 0.75]), array([1., 0., 0.]))\n"
     ]
    }
   ],
   "source": [
    "#abs\n",
    "arr=np.abs([-1,2j,3.3])\n",
    "print(arr)\n",
    "#fabs\n",
    "arr1=np.fabs([-1,2,3.3])\n",
    "print(arr1)\n",
    "#sqrt\n",
    "arr2=np.sqrt([16,25,36])\n",
    "print(arr2)\n",
    "#square\n",
    "arr3=np.square([2,4,5])\n",
    "print(arr3)\n",
    "#exp\n",
    "arr4=np.exp([2,1,0])\n",
    "print(arr4)\n",
    "#log\n",
    "arr5=np.log([1,10,20])\n",
    "print(arr5)\n",
    "#log10\n",
    "arr6=np.log10([1,10,20])\n",
    "print(arr6)\n",
    "#log2\n",
    "arr7=np.log2([2,20,40])\n",
    "print(arr7)\n",
    "#log1p\n",
    "arr8=np.log1p([1,10,20])\n",
    "print(arr8)\n",
    "#sign\n",
    "arr9=np.sign([-1,2,6])\n",
    "print(arr9)\n",
    "#ceil\n",
    "arr10=np.ceil([4.5,6.4,1.9])\n",
    "print(arr10)\n",
    "#floor\n",
    "arr11=np.floor([1.2,5.7,3.3])\n",
    "print(arr11)\n",
    "#rint\n",
    "arr12=np.rint([1.5,3,3.9])\n",
    "print(arr12)\n",
    "#modf\n",
    "arr13=np.modf([1.2,3/5,3.3/4.4])\n",
    "print(arr13)\n",
    "#isnan"
   ]
  },
  {
   "cell_type": "code",
   "execution_count": null,
   "id": "a9dc7d4d",
   "metadata": {},
   "outputs": [],
   "source": []
  }
 ],
 "metadata": {
  "kernelspec": {
   "display_name": "Python 3 (ipykernel)",
   "language": "python",
   "name": "python3"
  },
  "language_info": {
   "codemirror_mode": {
    "name": "ipython",
    "version": 3
   },
   "file_extension": ".py",
   "mimetype": "text/x-python",
   "name": "python",
   "nbconvert_exporter": "python",
   "pygments_lexer": "ipython3",
   "version": "3.9.7"
  }
 },
 "nbformat": 4,
 "nbformat_minor": 5
}
